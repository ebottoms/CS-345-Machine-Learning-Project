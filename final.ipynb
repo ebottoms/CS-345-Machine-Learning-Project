{
 "cells": [
  {
   "cell_type": "markdown",
   "metadata": {},
   "source": [
    "# Introduction to Dataset"
   ]
  },
  {
   "cell_type": "markdown",
   "metadata": {},
   "source": [
    "### Preprocessing"
   ]
  },
  {
   "cell_type": "code",
   "execution_count": 2,
   "metadata": {},
   "outputs": [],
   "source": [
    "import pandas as pd\n",
    "from sklearn.preprocessing import MinMaxScaler, StandardScaler, RobustScaler\n",
    "\n",
    "def round_to_nearest_5_minutes(df):\n",
    "    # Ensure CompletionDateTime is in datetime format\n",
    "    df['CompletionDateTime'] = pd.to_datetime(df['CompletionDateTime'], errors='coerce')\n",
    "    # Drop rows with invalid datetime entries\n",
    "    df = df.dropna(subset=['CompletionDateTime'])\n",
    "    # Round CompletionDateTime to the nearest 5 minutes\n",
    "    df['CompletionDateTime'] = df['CompletionDateTime'].dt.round('5min')\n",
    "    return df\n",
    "\n",
    "def remove_cgm_on_time_overlap(df):\n",
    "    # Identify duplicates based on CompletionDateTime\n",
    "    duplicate_times = df[df.duplicated('CompletionDateTime', keep=False)]\n",
    "    # Filter out rows where Type is EVG and CompletionDateTime is duplicated\n",
    "    df = df[~((df['CompletionDateTime'].isin(duplicate_times['CompletionDateTime'])) & (df['Type'] == 'CGM'))]\n",
    "    \n",
    "    return df\n",
    "\n",
    "def convert_data(df):\n",
    "    # Example Bolus table columns\n",
    "    bolus_columns = [\n",
    "        'Type', 'BolusType', 'BolusDeliveryMethod', 'BG (mg/dL)', 'SerialNumber',\n",
    "        'CompletionDateTime', 'InsulinDelivered', 'FoodDelivered', 'CorrectionDelivered',\n",
    "        'CompletionStatusDesc', 'BolexStartDateTime', 'BolexCompletionDateTime', \n",
    "        'BolexInsulinDelivered', 'BolexCompletionStatusDesc', 'StandardPercent', \n",
    "        'Duration (mins)', 'CarbSize', 'TargetBG (mg/dL)', 'CorrectionFactor', 'CarbRatio'\n",
    "    ]\n",
    "\n",
    "    # 1. Create a template DataFrame for Bolus table with default values\n",
    "    template_bolus = pd.DataFrame(columns=bolus_columns)\n",
    "\n",
    "    # Default values for missing fields\n",
    "    default_numeric = 0\n",
    "    default_categorical = ''\n",
    "\n",
    "    # 2. Map EVG fields to Bolus fields\n",
    "    mapped_bolus = evg_df.rename(columns={\n",
    "        'Readings (mg/dL)': 'BG (mg/dL)',\n",
    "        'SerialNumber': 'SerialNumber',\n",
    "        'EventDateTime': 'CompletionDateTime'\n",
    "    })\n",
    "\n",
    "    # 3. Add missing columns with default values\n",
    "    for col in bolus_columns:\n",
    "        if col not in mapped_bolus.columns:\n",
    "            if col in ['BG (mg/dL)', 'InsulinDelivered', 'FoodDelivered', 'CorrectionDelivered', \n",
    "                    'StandardPercent', 'Duration (mins)', 'CarbSize', 'TargetBG (mg/dL)', \n",
    "                    'CorrectionFactor', 'CarbRatio']:  # Numeric fields\n",
    "                mapped_bolus[col] = default_numeric\n",
    "            elif col == 'Type':\n",
    "                mapped_bolus[col] = 'CGM'\n",
    "            else:  # Categorical fields\n",
    "                mapped_bolus[col] = default_categorical\n",
    "\n",
    "    # 4. Reorder columns to match the Bolus table structure\n",
    "    mapped_bolus = mapped_bolus[bolus_columns]\n",
    "\n",
    "    # Resulting Bolus DataFrame\n",
    "    #print(mapped_bolus)\n",
    "    return mapped_bolus\n",
    "\n",
    "\n",
    "def min_max_scaling(df, field):\n",
    "    scaler = MinMaxScaler(feature_range=(0, 1))\n",
    "    fieldNew = \"Scaled\" + field\n",
    "    df[fieldNew] = scaler.fit_transform(df[[field]])\n",
    "    return df\n",
    "\n",
    "def map_categories_to_indices(df, columns):\n",
    "    \"\"\"\n",
    "    Map categorical values to numeric indices.\n",
    "    \"\"\"\n",
    "    mappings = {}\n",
    "    for col in columns:\n",
    "        df[col] = df[col].astype('category')\n",
    "        df[f\"{col}_idx\"] = df[col].cat.codes  # Create numeric indices\n",
    "        mappings[col] = dict(enumerate(df[col].cat.categories))  # Save mappings\n",
    "    return df, mappings\n",
    "\n",
    "def onehot_encoding(df, columns):\n",
    "    df = pd.get_dummies(df, columns=columns)\n",
    "    return df\n",
    "\n",
    "def onehot_encoding_with_all_categories(df, categorical_columns, all_possible_categories):\n",
    "    \"\"\"\n",
    "    One-hot encode specified categorical columns, ensuring all possible categories are included.\n",
    "    \"\"\"\n",
    "    for col in categorical_columns:\n",
    "        df[col] = pd.Categorical(df[col], categories=all_possible_categories[col])\n",
    "    df = pd.get_dummies(df, columns=categorical_columns, prefix=categorical_columns, dummy_na=False)\n",
    "    return df\n",
    "\n",
    "\n",
    "# Load the CSV files into pandas DataFrames\n",
    "#file_path1 = './DataTables/BG.csv'  # Replace with the actual path for Table 1\n",
    "file_path2 = './DataTables/EVG.csv'  # Replace with the actual path for Table 2\n",
    "file_path3 = './DataTables/Bolus.csv'  # Replace with the actual path for Table 3\n",
    "\n",
    "# Load the data\n",
    "#df1 = pd.read_csv(file_path1)\n",
    "evg_df = pd.read_csv(file_path2)\n",
    "bolus_df = pd.read_csv(file_path3)\n",
    "\n",
    "evg_mapped = convert_data(evg_df)\n",
    "\n",
    "df = pd.concat([bolus_df, evg_mapped], ignore_index=True)\n",
    "#print(evg_mapped)\n",
    "\n",
    "# Round CompletionDateTime to the nearest 5 minutes\n",
    "df = round_to_nearest_5_minutes(df)\n",
    "\n",
    "# Sort the DataFrame by CompletionDateTime\n",
    "df = df.sort_values(by='CompletionDateTime').reset_index(drop=True)\n",
    "\n",
    "df = remove_cgm_on_time_overlap(df)\n",
    "columns=['Type', 'BolusType', 'BolusDeliveryMethod', 'CompletionStatusDesc']\n",
    "# Apply the function\n",
    "#df = onehot_encoding(df, columns)\n",
    "columns=['SerialNumber', 'BolexStartDateTime', 'BolexCompletionDateTime', 'BolexInsulinDelivered', 'BolexCompletionStatusDesc', 'Type', 'BolusType', 'BolusDeliveryMethod', 'CompletionStatusDesc']\n",
    "df = df.drop(columns=columns)\n",
    "bool_columns = df.select_dtypes(include='bool').columns\n",
    "df[bool_columns] = df[bool_columns].astype(int)\n",
    "\n",
    "df.rename(columns={'CompletionDateTime': 'Date'}, inplace=True)\n",
    "\n",
    "# Move the 'Date' column to the first position\n",
    "first_col = df.pop('Date')  # Remove 'Date' column\n",
    "df.insert(0, 'Date', first_col)  # Reinsert it at position 0\n",
    "\n",
    "# Write the DataFrame\n",
    "df.to_csv('merged_data.csv', index=False)\n",
    "\n",
    "# Organize data, make date into an index\n",
    "df.set_index(\"Date\", inplace=True)\n",
    "values = df.values\n",
    "# normalize features\n",
    "scaler = MinMaxScaler(feature_range=(0, 1))\n",
    "scaled = scaler.fit_transform(values)"
   ]
  },
  {
   "cell_type": "markdown",
   "metadata": {},
   "source": [
    "# Choosing a Model"
   ]
  },
  {
   "cell_type": "markdown",
   "metadata": {},
   "source": [
    "### Baseline Example: Random Selection"
   ]
  },
  {
   "cell_type": "markdown",
   "metadata": {},
   "source": [
    "### Introduction to Time Series\n",
    "Initially, we considered using linear regression. However, sources online, as well as our professor, informed us that our problem was better framed as a \"Time Series\" problem and that Neural Networks are excellently suited for tackling these kinds of problems. We will get to Neural Networks and the model we chose in a minute, but first, what is a Time Series?\n",
    "\n",
    "*GeeksforGeeks* defines a Time Series as, \"a sequence of data points collected, recorded, or measured at successive, evenly-spaced time intervals.\" Most of our data certainly fits this criteria. We have a long record of various biological data collected over the course of eight months at intervals of five minutes. However, some of our data was recorded at irregular time intervals. We address this later in our section on Data Preprocessing, but we ultimately decided to merge the two datasets and the round the irregular time records to the nearest five-minute mark. This way, we have consistent intervals, and by sacrificing some precision in timing, we gain a wealth of information about food consumption times, carbs consumed, insulin delivered, etc.\n",
    "\n"
   ]
  },
  {
   "cell_type": "markdown",
   "metadata": {},
   "source": [
    "### Components of a Time Series\n",
    "Digging a little deeper into Time Series, we see that Time Series have four main components:\n",
    "* **Trend**: The long-term movement of data over the course of the entire timeframe. An example would be rising air temperatures over the course of decades.\n",
    "* **Seasonality**: Periodic patterns that occur at regular intervals in the data. An example would be daily changes in temperature or even changes in temperature over the course of the four seasons.\n",
    "* **Cycles**: Long-term fluctuations which do not have a fixed period. An example would be market boom and bust cycles. These consistently happen, but not at regular intervals.\n",
    "* **Noise**: Randomness or unpredictable changes in the data\n",
    "\n",
    "With the exception of cycles, these components are easy to identify in our data. We've visualized Trend and Seasonality in the code cells below. Noise is readily visible in both visualizations as well."
   ]
  },
  {
   "cell_type": "code",
   "execution_count": null,
   "metadata": {},
   "outputs": [
    {
     "data": {
      "image/png": "[encoded data removed]",
      "text/plain": [
       "<Figure size 640x480 with 1 Axes>"
      ]
     },
     "metadata": {},
     "output_type": "display_data"
    }
   ],
   "source": [
    "from matplotlib import pyplot\n",
    "# specify columns to plot\n",
    "groups = [0, 1, 2, 3]\n",
    "i = 1\n",
    "# plot each column\n",
    "pyplot.figure()\n",
    "for group in groups:\n",
    "\tpyplot.subplot(len(groups), 1, i)\n",
    "\tpyplot.plot(values[:, group])\n",
    "\tpyplot.title(df.columns[group], y=0.5, loc='right')\n",
    "\ti += 1\n",
    "pyplot.show()"
   ]
  },
  {
   "cell_type": "code",
   "execution_count": 4,
   "metadata": {},
   "outputs": [
    {
     "data": {
      "image/png": "[encoded data removed]",
      "text/plain": [
       "<Figure size 640x480 with 1 Axes>"
      ]
     },
     "metadata": {},
     "output_type": "display_data"
    }
   ],
   "source": [
    "data = pd.read_csv('merged_data.csv')\n",
    "data.groupby(pd.to_datetime(data['Date']).dt.hour)['BG (mg/dL)'].mean().plot( kind='bar', rot=0 );"
   ]
  },
  {
   "cell_type": "markdown",
   "metadata": {},
   "source": [
    "### From Neural Networks to Recurrent Neural Networks"
   ]
  },
  {
   "cell_type": "markdown",
   "metadata": {},
   "source": [
    "### Recurrent Neural Networks Improved: Long-Short Term Memory Model"
   ]
  },
  {
   "cell_type": "markdown",
   "metadata": {},
   "source": [
    "# Tutorial by Jason Brownlee"
   ]
  },
  {
   "cell_type": "markdown",
   "metadata": {},
   "source": [
    "Here we simply use the Time Series to Supervised Set formatter written by Jason:"
   ]
  },
  {
   "cell_type": "code",
   "execution_count": 191,
   "metadata": {},
   "outputs": [],
   "source": [
    "from pandas import DataFrame\n",
    "from pandas import concat\n",
    " \n",
    "def series_to_supervised(data, n_in=1, n_out=1, dropnan=True):\n",
    "\t\"\"\"\n",
    "\tFrame a time series as a supervised learning dataset.\n",
    "\tArguments:\n",
    "\t\tdata: Sequence of observations as a list or NumPy array.\n",
    "\t\tn_in: Number of lag observations as input (X).\n",
    "\t\tn_out: Number of observations as output (y).\n",
    "\t\tdropnan: Boolean whether or not to drop rows with NaN values.\n",
    "\tReturns:\n",
    "\t\tPandas DataFrame of series framed for supervised learning.\n",
    "\t\"\"\"\n",
    "\tn_vars = 1 if type(data) is list else data.shape[1]\n",
    "\tdf = DataFrame(data)\n",
    "\tcols, names = list(), list()\n",
    "\t# input sequence (t-n, ... t-1)\n",
    "\tfor i in range(n_in, 0, -1):\n",
    "\t\tcols.append(df.shift(i))\n",
    "\t\tnames += [('var%d(t-%d)' % (j+1, i)) for j in range(n_vars)]\n",
    "\t# forecast sequence (t, t+1, ... t+n)\n",
    "\tfor i in range(0, n_out):\n",
    "\t\tcols.append(df.shift(-i))\n",
    "\t\tif i == 0:\n",
    "\t\t\tnames += [('var%d(t)' % (j+1)) for j in range(n_vars)]\n",
    "\t\telse:\n",
    "\t\t\tnames += [('var%d(t+%d)' % (j+1, i)) for j in range(n_vars)]\n",
    "\t# put it all together\n",
    "\tagg = concat(cols, axis=1)\n",
    "\tagg.columns = names\n",
    "\t# drop rows with NaN values\n",
    "\tif dropnan:\n",
    "\t\tagg.dropna(inplace=True)\n",
    "\treturn agg"
   ]
  },
  {
   "cell_type": "markdown",
   "metadata": {},
   "source": [
    "# Implementation of Tutorial"
   ]
  },
  {
   "cell_type": "markdown",
   "metadata": {},
   "source": [
    "### Selecting Variables From Our Dataset"
   ]
  },
  {
   "cell_type": "markdown",
   "metadata": {},
   "source": [
    "### Final Data Preprocessing Step"
   ]
  },
  {
   "cell_type": "markdown",
   "metadata": {},
   "source": [
    "Loading data from our previously-made Bolus.csv table into a Pandas dataframe:"
   ]
  },
  {
   "cell_type": "code",
   "execution_count": 192,
   "metadata": {},
   "outputs": [],
   "source": [
    "#import pandas as pd\n",
    "#from sklearn.preprocessing import MinMaxScaler\n",
    "#\n",
    "## Load Bolus Data\n",
    "#file_path = './DataTables/Bolus.csv'\n",
    "#df = pd.read_csv(file_path)\n",
    "#df['CompletionDateTime'] = pd.to_datetime(df['CompletionDateTime'])\n",
    "#df = df.sort_values(by='CompletionDateTime')"
   ]
  },
  {
   "cell_type": "markdown",
   "metadata": {},
   "source": [
    "Here we prepare and clean our data:"
   ]
  },
  {
   "cell_type": "code",
   "execution_count": 193,
   "metadata": {},
   "outputs": [],
   "source": [
    "## Cull Featuers We're Not Using\n",
    "#df = df[[\"BG (mg/dL)\", \"CompletionDateTime\", \"InsulinDelivered\", \"FoodDelivered\", \"CarbSize\"]]\n",
    "#\n",
    "## Check for NaN values\n",
    "#print(\"NaN values:\", df.isnull().values.any())\n",
    "#\n",
    "## Organize data, make dataframe indexable by date\n",
    "#df.columns = [\"BG\", \"Date\", \"InsulinDelivered\", \"FoodDelivered\", \"CarbSize\"]\n",
    "#columns_titles = [\"Date\", \"BG\", \"InsulinDelivered\", \"FoodDelivered\", \"CarbSize\"]\n",
    "#df = df.reindex(columns=columns_titles)\n",
    "#df.set_index(\"Date\", inplace=True)\n",
    "#print(df.head())\n",
    "#\n",
    "## normalize features\n",
    "#values = df.values\n",
    "#scaler = MinMaxScaler(feature_range=(0, 1))\n",
    "#scaled = scaler.fit_transform(values)"
   ]
  },
  {
   "cell_type": "markdown",
   "metadata": {},
   "source": [
    "### Multiple Timesteps"
   ]
  },
  {
   "cell_type": "markdown",
   "metadata": {},
   "source": [
    "The \"n_in\" parameter in Jason's series_to_supervised() function allows us to transform the data such that each feature's time series is matched by *n* other time series of the feature which are offset by (t-1, t-2, ..., t-n) timesteps. If we leave it at default, we can then see, once we print the head of the dataframe, that it has output two timesteps for each variable. For variable 1, our blood glucose level as shown in the code cell above, there is var1(t-1) and var1(t). If you run the code cell below, you will notice that the time series var1(t-1) is the same series as var1(t) except that the entire series is offset one step into the past. This is the same for every one of the variables / features.\n",
    "\n",
    "It will be more convenient for us to do this later, but if we culled the last three timesteps, we would be left with a dataframe containing four of previous timestep series for all of our features (var1(t-1), var2(t-2), var3(t-3), var4(t-4)) — our input variables — and one timestep series for the current blood glucose level (var1(t)) — our output variable."
   ]
  },
  {
   "cell_type": "code",
   "execution_count": 194,
   "metadata": {},
   "outputs": [
    {
     "name": "stdout",
     "output_type": "stream",
     "text": [
      "   var1(t-1)  var2(t-1)  var3(t-1)  var4(t-1)  var5(t-1)  var6(t-1)  \\\n",
      "1       0.00   0.267380   0.267380   0.000000        1.0        0.0   \n",
      "2       0.22   0.104813   0.089305   0.033333        1.0        0.0   \n",
      "3       0.00   0.057219   0.057219   0.000000        1.0        0.0   \n",
      "4       0.00   0.267380   0.267380   0.000000        1.0        0.0   \n",
      "5       0.00   0.057219   0.057219   0.000000        1.0        0.0   \n",
      "\n",
      "   var7(t-1)  var8(t-1)  var9(t-1)  var10(t-1)  var1(t)   var2(t)   var3(t)  \\\n",
      "1   0.166667   0.733333        1.0         1.0     0.22  0.104813  0.089305   \n",
      "2   0.055556   0.733333        1.0         1.0     0.00  0.057219  0.057219   \n",
      "3   0.035556   0.733333        1.0         1.0     0.00  0.267380  0.267380   \n",
      "4   0.166667   0.733333        1.0         1.0     0.00  0.057219  0.057219   \n",
      "5   0.035556   0.733333        1.0         1.0     0.00  0.142781  0.142781   \n",
      "\n",
      "    var4(t)  var5(t)  var6(t)   var7(t)   var8(t)  var9(t)  var10(t)  \n",
      "1  0.033333      1.0      0.0  0.055556  0.733333      1.0       1.0  \n",
      "2  0.000000      1.0      0.0  0.035556  0.733333      1.0       1.0  \n",
      "3  0.000000      1.0      0.0  0.166667  0.733333      1.0       1.0  \n",
      "4  0.000000      1.0      0.0  0.035556  0.733333      1.0       1.0  \n",
      "5  0.000000      1.0      0.0  0.088889  0.733333      1.0       1.0  \n"
     ]
    }
   ],
   "source": [
    "# Transform to supervised set with one timestep\n",
    "df_reframed = series_to_supervised(scaled, n_in=1, n_out=1)\n",
    "print(df_reframed.head())"
   ]
  },
  {
   "cell_type": "markdown",
   "metadata": {},
   "source": [
    "If we set \"n_in\" parameter for more timesteps, the result is the same as above but with more timesteps. For our initial attempt, we will use 10 timesteps because we would later like to be able to use data from the last several hours as input into the LSTM to get our predicted blood-glucose level. \"n_out\" is set to 1 because we want to predict our current blood glucose level.\n",
    "\n",
    "We *would* like to be able to predict future blood glucose levels (which would be n_out >= 2), but because our data was not recorded at regular intervals, timestep predictions into the future would tell us \"how much?\" but not exactly \"when?\". If our data were recorded in regular one hour intervals, we could then rest assured that future timestep predictions would be *n* number of hours into the future precisely. This is a limitation in our dataset or, at least, in the tutorial we have followed to implement our LSTM. The tutorial was working with data on regular intervals. We are not."
   ]
  },
  {
   "cell_type": "code",
   "execution_count": 195,
   "metadata": {},
   "outputs": [
    {
     "name": "stdout",
     "output_type": "stream",
     "text": [
      "    var1(t-10)  var2(t-10)  var3(t-10)  var4(t-10)  var5(t-10)  var6(t-10)  \\\n",
      "10        0.00    0.267380    0.267380    0.000000         1.0         0.0   \n",
      "11        0.22    0.104813    0.089305    0.033333         1.0         0.0   \n",
      "12        0.00    0.057219    0.057219    0.000000         1.0         0.0   \n",
      "13        0.00    0.267380    0.267380    0.000000         1.0         0.0   \n",
      "14        0.00    0.057219    0.057219    0.000000         1.0         0.0   \n",
      "\n",
      "    var7(t-10)  var8(t-10)  var9(t-10)  var10(t-10)  ...  var1(t+6)  \\\n",
      "10    0.166667    0.733333         1.0          1.0  ...   0.318333   \n",
      "11    0.055556    0.733333         1.0          1.0  ...   0.313333   \n",
      "12    0.035556    0.733333         1.0          1.0  ...   0.296667   \n",
      "13    0.166667    0.733333         1.0          1.0  ...   0.296667   \n",
      "14    0.035556    0.733333         1.0          1.0  ...   0.273333   \n",
      "\n",
      "    var2(t+6)  var3(t+6)  var4(t+6)  var5(t+6)  var6(t+6)  var7(t+6)  \\\n",
      "10        0.0        0.0        0.0        0.0        0.0        0.0   \n",
      "11        0.0        0.0        0.0        0.0        0.0        0.0   \n",
      "12        0.0        0.0        0.0        0.0        0.0        0.0   \n",
      "13        0.0        0.0        0.0        0.0        0.0        0.0   \n",
      "14        0.0        0.0        0.0        0.0        0.0        0.0   \n",
      "\n",
      "    var8(t+6)  var9(t+6)  var10(t+6)  \n",
      "10        0.0        0.0         0.0  \n",
      "11        0.0        0.0         0.0  \n",
      "12        0.0        0.0         0.0  \n",
      "13        0.0        0.0         0.0  \n",
      "14        0.0        0.0         0.0  \n",
      "\n",
      "[5 rows x 170 columns]\n"
     ]
    }
   ],
   "source": [
    "# Transform to supervised set with multiple timesteps\n",
    "n_timesteps = 10\n",
    "df_reframed = series_to_supervised(scaled, n_in=n_timesteps, n_out=7)\n",
    "print(df_reframed.head())"
   ]
  },
  {
   "cell_type": "markdown",
   "metadata": {},
   "source": [
    "### Split Test and Train Sets"
   ]
  },
  {
   "cell_type": "markdown",
   "metadata": {},
   "source": [
    "Here we split our data into a training set, comprised of the first half of our time range, and a testing set, comprised of the second half of our time range. We choose to split it this way rather than use standard shuffling methods of generating the sets because our data is only useful insofar as it records a time series. That is, if we scrambled the time series, the data would be relatively meaningless, possessing no information about the relative order nor trends in the data over time."
   ]
  },
  {
   "cell_type": "code",
   "execution_count": 196,
   "metadata": {},
   "outputs": [],
   "source": [
    "# Split into train and test sets\n",
    "values = df_reframed.values\n",
    "index_midpoint = len(values) // 2\n",
    "train = values[:index_midpoint,:]\n",
    "test = values[index_midpoint:,:]"
   ]
  },
  {
   "cell_type": "markdown",
   "metadata": {},
   "source": [
    "Here we cull all the current timestep features except variable 1, which is the blood glucose level variable we are trying to predict."
   ]
  },
  {
   "cell_type": "code",
   "execution_count": 197,
   "metadata": {},
   "outputs": [],
   "source": [
    "# Split into input and outputs\n",
    "n_features = len(df.columns)\n",
    "n_obs = n_timesteps * n_features\n",
    "train_X, train_y = train[:, 0:n_obs], train[:, -n_features]\n",
    "test_X, test_y = test[:, 0:n_obs], test[:, -n_features]\n",
    "\n",
    "# reshape input to be 3D [samples, timesteps, features]\n",
    "train_X = train_X.reshape((train_X.shape[0], n_timesteps, n_features))\n",
    "test_X = test_X.reshape((test_X.shape[0], n_timesteps, n_features))"
   ]
  },
  {
   "cell_type": "markdown",
   "metadata": {},
   "source": [
    "### Create and Fit Model"
   ]
  },
  {
   "cell_type": "code",
   "execution_count": null,
   "metadata": {},
   "outputs": [
    {
     "name": "stdout",
     "output_type": "stream",
     "text": [
      "(80960, 10, 10)\n",
      "Epoch 1/50\n",
      "1125/1125 - 4s - 4ms/step - loss: 0.0756 - val_loss: 0.0689\n",
      "Epoch 2/50\n",
      "1125/1125 - 3s - 3ms/step - loss: 0.0682 - val_loss: 0.0667\n",
      "Epoch 3/50\n",
      "1125/1125 - 3s - 3ms/step - loss: 0.0662 - val_loss: 0.0645\n",
      "Epoch 4/50\n",
      "1125/1125 - 3s - 3ms/step - loss: 0.0648 - val_loss: 0.0620\n",
      "Epoch 5/50\n",
      "1125/1125 - 3s - 3ms/step - loss: 0.0640 - val_loss: 0.0607\n",
      "Epoch 6/50\n",
      "1125/1125 - 3s - 3ms/step - loss: 0.0634 - val_loss: 0.0599\n",
      "Epoch 7/50\n",
      "1125/1125 - 3s - 3ms/step - loss: 0.0630 - val_loss: 0.0593\n",
      "Epoch 8/50\n",
      "1125/1125 - 3s - 3ms/step - loss: 0.0627 - val_loss: 0.0592\n",
      "Epoch 9/50\n",
      "1125/1125 - 3s - 3ms/step - loss: 0.0625 - val_loss: 0.0589\n",
      "Epoch 10/50\n",
      "1125/1125 - 3s - 3ms/step - loss: 0.0624 - val_loss: 0.0583\n",
      "Epoch 11/50\n",
      "1125/1125 - 3s - 3ms/step - loss: 0.0623 - val_loss: 0.0581\n",
      "Epoch 12/50\n",
      "1125/1125 - 3s - 3ms/step - loss: 0.0622 - val_loss: 0.0578\n",
      "Epoch 13/50\n",
      "1125/1125 - 3s - 3ms/step - loss: 0.0621 - val_loss: 0.0575\n",
      "Epoch 14/50\n",
      "1125/1125 - 3s - 3ms/step - loss: 0.0620 - val_loss: 0.0573\n",
      "Epoch 15/50\n",
      "1125/1125 - 3s - 3ms/step - loss: 0.0619 - val_loss: 0.0573\n",
      "Epoch 16/50\n",
      "1125/1125 - 3s - 3ms/step - loss: 0.0618 - val_loss: 0.0572\n",
      "Epoch 17/50\n",
      "1125/1125 - 3s - 3ms/step - loss: 0.0618 - val_loss: 0.0571\n",
      "Epoch 18/50\n",
      "1125/1125 - 3s - 3ms/step - loss: 0.0617 - val_loss: 0.0567\n",
      "Epoch 19/50\n",
      "1125/1125 - 3s - 3ms/step - loss: 0.0616 - val_loss: 0.0568\n",
      "Epoch 20/50\n",
      "1125/1125 - 3s - 3ms/step - loss: 0.0616 - val_loss: 0.0566\n",
      "Epoch 21/50\n",
      "1125/1125 - 3s - 3ms/step - loss: 0.0615 - val_loss: 0.0565\n",
      "Epoch 22/50\n",
      "1125/1125 - 3s - 3ms/step - loss: 0.0615 - val_loss: 0.0565\n",
      "Epoch 23/50\n",
      "1125/1125 - 3s - 3ms/step - loss: 0.0614 - val_loss: 0.0564\n",
      "Epoch 24/50\n",
      "1125/1125 - 3s - 3ms/step - loss: 0.0614 - val_loss: 0.0563\n",
      "Epoch 25/50\n",
      "1125/1125 - 3s - 3ms/step - loss: 0.0613 - val_loss: 0.0563\n",
      "Epoch 26/50\n",
      "1125/1125 - 3s - 3ms/step - loss: 0.0613 - val_loss: 0.0563\n",
      "Epoch 27/50\n",
      "1125/1125 - 3s - 3ms/step - loss: 0.0613 - val_loss: 0.0564\n",
      "Epoch 28/50\n",
      "1125/1125 - 3s - 3ms/step - loss: 0.0612 - val_loss: 0.0564\n",
      "Epoch 29/50\n",
      "1125/1125 - 3s - 3ms/step - loss: 0.0612 - val_loss: 0.0565\n",
      "Epoch 30/50\n",
      "1125/1125 - 3s - 3ms/step - loss: 0.0611 - val_loss: 0.0565\n",
      "Epoch 31/50\n",
      "1125/1125 - 3s - 3ms/step - loss: 0.0611 - val_loss: 0.0566\n",
      "Epoch 32/50\n",
      "1125/1125 - 3s - 3ms/step - loss: 0.0611 - val_loss: 0.0565\n",
      "Epoch 33/50\n",
      "1125/1125 - 3s - 3ms/step - loss: 0.0610 - val_loss: 0.0564\n",
      "Epoch 34/50\n",
      "1125/1125 - 3s - 3ms/step - loss: 0.0610 - val_loss: 0.0566\n",
      "Epoch 35/50\n",
      "1125/1125 - 3s - 3ms/step - loss: 0.0609 - val_loss: 0.0567\n",
      "Epoch 36/50\n",
      "1125/1125 - 3s - 3ms/step - loss: 0.0609 - val_loss: 0.0565\n",
      "Epoch 37/50\n",
      "1125/1125 - 3s - 3ms/step - loss: 0.0609 - val_loss: 0.0565\n",
      "Epoch 38/50\n",
      "1125/1125 - 3s - 3ms/step - loss: 0.0608 - val_loss: 0.0564\n",
      "Epoch 39/50\n",
      "1125/1125 - 3s - 3ms/step - loss: 0.0608 - val_loss: 0.0564\n",
      "Epoch 40/50\n",
      "1125/1125 - 3s - 3ms/step - loss: 0.0608 - val_loss: 0.0564\n",
      "Epoch 41/50\n",
      "1125/1125 - 3s - 3ms/step - loss: 0.0607 - val_loss: 0.0562\n",
      "Epoch 42/50\n",
      "1125/1125 - 3s - 3ms/step - loss: 0.0607 - val_loss: 0.0564\n",
      "Epoch 43/50\n",
      "1125/1125 - 3s - 3ms/step - loss: 0.0607 - val_loss: 0.0563\n",
      "Epoch 44/50\n",
      "1125/1125 - 3s - 3ms/step - loss: 0.0606 - val_loss: 0.0565\n",
      "Epoch 45/50\n",
      "1125/1125 - 3s - 3ms/step - loss: 0.0606 - val_loss: 0.0565\n",
      "Epoch 46/50\n",
      "1125/1125 - 3s - 3ms/step - loss: 0.0606 - val_loss: 0.0564\n",
      "Epoch 47/50\n",
      "1125/1125 - 3s - 3ms/step - loss: 0.0605 - val_loss: 0.0563\n",
      "Epoch 48/50\n",
      "1125/1125 - 3s - 3ms/step - loss: 0.0605 - val_loss: 0.0566\n",
      "Epoch 49/50\n",
      "1125/1125 - 3s - 3ms/step - loss: 0.0605 - val_loss: 0.0566\n",
      "Epoch 50/50\n",
      "1125/1125 - 3s - 3ms/step - loss: 0.0604 - val_loss: 0.0567\n"
     ]
    },
    {
     "data": {
      "image/png": "[encoded data removed]",
      "text/plain": [
       "<Figure size 640x480 with 1 Axes>"
      ]
     },
     "metadata": {},
     "output_type": "display_data"
    }
   ],
   "source": [
    "from keras.models import Sequential\n",
    "from keras.layers import Input, Dense\n",
    "from keras.layers import LSTM\n",
    "\n",
    "# design LSTM\n",
    "model = Sequential()\n",
    "model.add(Input(shape=(train_X.shape[1], train_X.shape[2])))\n",
    "model.add(LSTM(50))\n",
    "model.add(Dense(1))\n",
    "model.compile(loss='mae', optimizer='adam')\n",
    "\n",
    "# fit LSTM\n",
    "history = model.fit(train_X, train_y, epochs=50, batch_size=72, validation_data=(test_X, test_y), verbose=2, shuffle=False)\n",
    "\n",
    "# plot loss curves\n",
    "pyplot.plot(history.history['loss'], label='train')\n",
    "pyplot.plot(history.history['val_loss'], label='test')\n",
    "pyplot.legend()\n",
    "pyplot.show()"
   ]
  },
  {
   "cell_type": "code",
   "execution_count": 207,
   "metadata": {},
   "outputs": [
    {
     "name": "stdout",
     "output_type": "stream",
     "text": [
      "[0.06891997903585434, 0.06668123602867126, 0.06448561698198318, 0.06195392087101936, 0.060749828815460205, 0.05990162864327431, 0.0593453086912632, 0.05923716351389885, 0.058947257697582245, 0.05826596915721893, 0.05806441977620125, 0.05776430666446686, 0.05753668397665024, 0.057335589081048965, 0.05725826323032379, 0.05719270929694176, 0.05705595389008522, 0.05671481415629387, 0.056844621896743774, 0.05659503489732742, 0.05652610585093498, 0.05648117512464523, 0.056442368775606155, 0.056321777403354645, 0.056301891803741455, 0.056251730769872665, 0.05639934912323952, 0.05642550438642502, 0.056492820382118225, 0.056515712291002274, 0.056617364287376404, 0.05652877688407898, 0.05636526271700859, 0.05658430606126785, 0.056657254695892334, 0.056518469005823135, 0.056477904319763184, 0.05635812506079674, 0.0563797727227211, 0.056385744363069534, 0.05622900649905205, 0.05635903775691986, 0.05628335848450661, 0.05645822361111641, 0.056521303951740265, 0.05644556134939194, 0.05632581189274788, 0.05656801536679268, 0.05658460780978203, 0.056681517511606216]\n"
     ]
    }
   ],
   "source": [
    "print(history.history['val_loss'])"
   ]
  },
  {
   "cell_type": "markdown",
   "metadata": {},
   "source": [
    "### Evaluate Model"
   ]
  },
  {
   "cell_type": "markdown",
   "metadata": {},
   "source": [
    "In his original tutorial, Jason used RMSE as his measurement of the performance of the dataset. MAE is, however, significantly easier to understand intuitively. So, we wanted to use MAE, but RMSE is better at finding significant errors, which is especially important since we are trying to predict human blood glucose levels. Luckily, we can use both to gain a better understanding of our dataset.\n",
    "\n",
    "According to EUMeTrain.org, an international training project for the development of training material and training support in the field of satellite meteorology:\n",
    "\n",
    "\"The MAE and the RMSE can be used together to diagnose the variation in the errors in a set of forecasts. The RMSE will always be larger or equal to the MAE; the greater difference between them, the greater the variance in the individual errors in the sample. If the RMSE=MAE, then all the errors are of the same magnitude. Both the MAE and RMSE can range from 0 to ∞. They are negatively-oriented scores: Lower values are better.\"\n",
    "\n",
    "So in the code cell below, we calculated MAE, RMSE, and the resulting Variance score."
   ]
  },
  {
   "cell_type": "code",
   "execution_count": 181,
   "metadata": {},
   "outputs": [
    {
     "name": "stdout",
     "output_type": "stream",
     "text": [
      "\u001b[1m   1/2531\u001b[0m \u001b[37m━━━━━━━━━━━━━━━━━━━━\u001b[0m \u001b[1m3:22\u001b[0m 80ms/step"
     ]
    },
    {
     "name": "stdout",
     "output_type": "stream",
     "text": [
      "\u001b[1m2531/2531\u001b[0m \u001b[32m━━━━━━━━━━━━━━━━━━━━\u001b[0m\u001b[37m\u001b[0m \u001b[1m2s\u001b[0m 851us/step\n",
      "Test MAE: 3.472\n",
      "Test RMSE: 6.215\n",
      "Test Variance: 2.743\n"
     ]
    }
   ],
   "source": [
    "from sklearn.metrics import mean_absolute_error\n",
    "from sklearn.metrics import root_mean_squared_error\n",
    "import numpy as np\n",
    "\n",
    "# make a prediction\n",
    "yhat = model.predict(test_X)\n",
    "test_X = test_X.reshape((test_X.shape[0], n_timesteps*n_features))\n",
    "# invert scaling for forecast\n",
    "inv_yhat = np.concatenate((yhat, test_X[:, -(n_features-1):]), axis=1)\n",
    "inv_yhat = scaler.inverse_transform(inv_yhat)\n",
    "inv_yhat = inv_yhat[:,0]\n",
    "# invert scaling for actual\n",
    "test_y = test_y.reshape((len(test_y), 1))\n",
    "inv_y = np.concatenate((test_y, test_X[:, -(n_features-1):]), axis=1)\n",
    "inv_y = scaler.inverse_transform(inv_y)\n",
    "inv_y = inv_y[:,0]\n",
    "# calculate MAE\n",
    "mae = np.sqrt(mean_absolute_error(inv_y, inv_yhat))\n",
    "print('Test MAE: %.3f' % mae)\n",
    "rmse = np.sqrt(root_mean_squared_error(inv_y, inv_yhat))\n",
    "print('Test RMSE: %.3f' % rmse)\n",
    "variance = rmse - mae\n",
    "print('Test Variance: %.3f' % variance)"
   ]
  },
  {
   "cell_type": "markdown",
   "metadata": {},
   "source": [
    "Running the code cell above results in an MAE of 8.372, an RMSE of 10.045, and a variance of 1.673. This variance is very low, and so it is unlikely that very large errors have occured. MAE tells us that the average difference between the forecasted blood glucose level and the observed was 8.3 mg/dL. The monitor our data came from records BG in a range from 0 to 400 mg/dL. 8.372 is only about 2.1% ((8.372 / 400) * 100 = 2.093). So, on average, our model's predicted BG level is only about 2.1% off of the actual level."
   ]
  },
  {
   "cell_type": "markdown",
   "metadata": {},
   "source": [
    "# Tuning"
   ]
  },
  {
   "cell_type": "markdown",
   "metadata": {},
   "source": [
    "### Are we overfitting? Underfitting? How do we tell?"
   ]
  },
  {
   "cell_type": "markdown",
   "metadata": {},
   "source": [
    "### Which input variables from out dataset are the best predictors?"
   ]
  },
  {
   "cell_type": "markdown",
   "metadata": {},
   "source": [
    "### What is the optimal number of timestamps?"
   ]
  },
  {
   "cell_type": "markdown",
   "metadata": {},
   "source": [
    "### What are the best LSTM hyperparameters?"
   ]
  },
  {
   "cell_type": "code",
   "execution_count": 182,
   "metadata": {},
   "outputs": [
    {
     "name": "stdout",
     "output_type": "stream",
     "text": [
      "------------------------------------\n",
      "neurons: 5 epochs: 10 batches: 10\n",
      "\u001b[1m2531/2531\u001b[0m \u001b[32m━━━━━━━━━━━━━━━━━━━━\u001b[0m\u001b[37m\u001b[0m \u001b[1m2s\u001b[0m 646us/step\n"
     ]
    },
    {
     "ename": "ValueError",
     "evalue": "operands could not be broadcast together with shapes (80963,4) (10,) (80963,4) ",
     "output_type": "error",
     "traceback": [
      "\u001b[0;31m---------------------------------------------------------------------------\u001b[0m",
      "\u001b[0;31mValueError\u001b[0m                                Traceback (most recent call last)",
      "Cell \u001b[0;32mIn[182], line 56\u001b[0m\n\u001b[1;32m     54\u001b[0m train_X \u001b[38;5;241m=\u001b[39m train_X\u001b[38;5;241m.\u001b[39mreshape((train_X\u001b[38;5;241m.\u001b[39mshape[\u001b[38;5;241m0\u001b[39m], n_timesteps, n_features))\n\u001b[1;32m     55\u001b[0m test_X \u001b[38;5;241m=\u001b[39m test_X\u001b[38;5;241m.\u001b[39mreshape((test_X\u001b[38;5;241m.\u001b[39mshape[\u001b[38;5;241m0\u001b[39m], n_timesteps, n_features))\n\u001b[0;32m---> 56\u001b[0m \u001b[38;5;28mprint\u001b[39m(GridSearchHyperparameters(num_neurons\u001b[38;5;241m=\u001b[39m[\u001b[38;5;241m5\u001b[39m,\u001b[38;5;241m10\u001b[39m,\u001b[38;5;241m25\u001b[39m,\u001b[38;5;241m50\u001b[39m],\n\u001b[1;32m     57\u001b[0m                                 num_epochs\u001b[38;5;241m=\u001b[39m[\u001b[38;5;241m10\u001b[39m, \u001b[38;5;241m20\u001b[39m, \u001b[38;5;241m40\u001b[39m, \u001b[38;5;241m80\u001b[39m],\n\u001b[1;32m     58\u001b[0m                                 batch_size\u001b[38;5;241m=\u001b[39m[\u001b[38;5;241m10\u001b[39m, \u001b[38;5;241m20\u001b[39m, \u001b[38;5;241m40\u001b[39m, \u001b[38;5;241m80\u001b[39m],\n\u001b[1;32m     59\u001b[0m                                 validation_data\u001b[38;5;241m=\u001b[39m(test_X, test_y))\n\u001b[1;32m     60\u001b[0m       )\n",
      "Cell \u001b[0;32mIn[182], line 30\u001b[0m, in \u001b[0;36mGridSearchHyperparameters\u001b[0;34m(num_neurons, num_epochs, batch_size, validation_data)\u001b[0m\n\u001b[1;32m     28\u001b[0m \u001b[38;5;66;03m# invert scaling for forecast\u001b[39;00m\n\u001b[1;32m     29\u001b[0m inv_yhat \u001b[38;5;241m=\u001b[39m np\u001b[38;5;241m.\u001b[39mconcatenate((yhat, test_X[:, \u001b[38;5;241m-\u001b[39m(n_features\u001b[38;5;241m-\u001b[39m\u001b[38;5;241m1\u001b[39m):]), axis\u001b[38;5;241m=\u001b[39m\u001b[38;5;241m1\u001b[39m)\n\u001b[0;32m---> 30\u001b[0m inv_yhat \u001b[38;5;241m=\u001b[39m scaler\u001b[38;5;241m.\u001b[39minverse_transform(inv_yhat)\n\u001b[1;32m     31\u001b[0m inv_yhat \u001b[38;5;241m=\u001b[39m inv_yhat[:,\u001b[38;5;241m0\u001b[39m]\n\u001b[1;32m     32\u001b[0m \u001b[38;5;66;03m# invert scaling for actual\u001b[39;00m\n",
      "File \u001b[0;32m~/miniconda3/envs/machine-learning/lib/python3.12/site-packages/sklearn/preprocessing/_data.py:574\u001b[0m, in \u001b[0;36mMinMaxScaler.inverse_transform\u001b[0;34m(self, X)\u001b[0m\n\u001b[1;32m    564\u001b[0m xp, _ \u001b[38;5;241m=\u001b[39m get_namespace(X)\n\u001b[1;32m    566\u001b[0m X \u001b[38;5;241m=\u001b[39m check_array(\n\u001b[1;32m    567\u001b[0m     X,\n\u001b[1;32m    568\u001b[0m     copy\u001b[38;5;241m=\u001b[39m\u001b[38;5;28mself\u001b[39m\u001b[38;5;241m.\u001b[39mcopy,\n\u001b[0;32m   (...)\u001b[0m\n\u001b[1;32m    571\u001b[0m     force_all_finite\u001b[38;5;241m=\u001b[39m\u001b[38;5;124m\"\u001b[39m\u001b[38;5;124mallow-nan\u001b[39m\u001b[38;5;124m\"\u001b[39m,\n\u001b[1;32m    572\u001b[0m )\n\u001b[0;32m--> 574\u001b[0m X \u001b[38;5;241m-\u001b[39m\u001b[38;5;241m=\u001b[39m \u001b[38;5;28mself\u001b[39m\u001b[38;5;241m.\u001b[39mmin_\n\u001b[1;32m    575\u001b[0m X \u001b[38;5;241m/\u001b[39m\u001b[38;5;241m=\u001b[39m \u001b[38;5;28mself\u001b[39m\u001b[38;5;241m.\u001b[39mscale_\n\u001b[1;32m    576\u001b[0m \u001b[38;5;28;01mreturn\u001b[39;00m X\n",
      "\u001b[0;31mValueError\u001b[0m: operands could not be broadcast together with shapes (80963,4) (10,) (80963,4) "
     ]
    }
   ],
   "source": [
    "# From tutorial: \"Remember that the internal state of the LSTM in Keras is reset at the end of each batch, so an internal state that is a function of a number of days may be helpful (try testing this)\"\n",
    "\n",
    "# Gird Search implementation like the one explained in Lecture (takes 15 mins to run currently)\n",
    "def GridSearchHyperparameters(num_neurons, num_epochs, batch_size, validation_data):\n",
    "    neurons_best = None\n",
    "    epochs_best = None\n",
    "    batch_size_best = None\n",
    "    mae_best = 1000000000000\n",
    "    for neurons in num_neurons:\n",
    "        for epochs in num_epochs:\n",
    "            for batches in batch_size:\n",
    "                print('------------------------------------')\n",
    "                print(\"neurons: \" + str(neurons), \"epochs: \" + str(epochs), \"batches: \" + str(batches))\n",
    "                # reset data\n",
    "                test_X = validation_data[0]\n",
    "                test_y = validation_data[1]\n",
    "                # design LSTM\n",
    "                model = Sequential()\n",
    "                model.add(Input(shape=(train_X.shape[1], train_X.shape[2])))\n",
    "                model.add(LSTM(neurons))\n",
    "                model.add(Dense(1))\n",
    "                model.compile(loss='mae', optimizer='adam')\n",
    "                # fit LSTM\n",
    "                model.fit(train_X, train_y, epochs=epochs, batch_size=batches, validation_data=validation_data, verbose=0, shuffle=False)\n",
    "                # make a prediction\n",
    "                yhat = model.predict(test_X)\n",
    "                test_X = test_X.reshape((test_X.shape[0], n_timesteps*n_features))\n",
    "                # invert scaling for forecast\n",
    "                inv_yhat = np.concatenate((yhat, test_X[:, -(n_features-1):]), axis=1)\n",
    "                inv_yhat = scaler.inverse_transform(inv_yhat)\n",
    "                inv_yhat = inv_yhat[:,0]\n",
    "                # invert scaling for actual\n",
    "                test_y = test_y.reshape((len(test_y), 1))\n",
    "                inv_y = np.concatenate((test_y, test_X[:, -(n_features-1):]), axis=1)\n",
    "                inv_y = scaler.inverse_transform(inv_y)\n",
    "                inv_y = inv_y[:,0]\n",
    "                # calculate MAE\n",
    "                mae = np.sqrt(mean_absolute_error(inv_y, inv_yhat))\n",
    "                # best MAE decision\n",
    "                if mae < mae_best:\n",
    "                    neurons_best = neurons\n",
    "                    epochs_best = epochs\n",
    "                    batch_size_best = batches\n",
    "                    mae_best = mae\n",
    "    return mae_best, neurons_best, epochs_best, batch_size_best\n",
    "\n",
    "# Split into input and outputs\n",
    "n_features = 4\n",
    "n_obs = n_timesteps * n_features\n",
    "train_X, train_y = train[:, 0:n_obs], train[:, -n_features]\n",
    "test_X, test_y = test[:, 0:n_obs], test[:, -n_features]\n",
    "\n",
    "# reshape input to be 3D [samples, timesteps, features]\n",
    "train_X = train_X.reshape((train_X.shape[0], n_timesteps, n_features))\n",
    "test_X = test_X.reshape((test_X.shape[0], n_timesteps, n_features))\n",
    "print(GridSearchHyperparameters(num_neurons=[5,10,25,50],\n",
    "                                num_epochs=[10, 20, 40, 80],\n",
    "                                batch_size=[10, 20, 40, 80],\n",
    "                                validation_data=(test_X, test_y))\n",
    "      )"
   ]
  },
  {
   "cell_type": "markdown",
   "metadata": {},
   "source": [
    "# Results"
   ]
  },
  {
   "cell_type": "markdown",
   "metadata": {},
   "source": [
    "### Summary"
   ]
  },
  {
   "cell_type": "markdown",
   "metadata": {},
   "source": [
    "### Limitations"
   ]
  },
  {
   "cell_type": "markdown",
   "metadata": {},
   "source": [
    "### Credits\n",
    "* Jason Brownlee's tutorial on how to create a multivariate LSTM in Python @ https://machinelearningmastery.com/multivariate-time-series-forecasting-lstms-keras/\n",
    "* \"The AI Hacker\" on YouTube for his informative guide to RNNs @ https://youtu.be/LHXXI4-IEns?si=C4FoMP-Bv4xywsHZ\n",
    "* EUMeTrain.org for their explanation of MAE, RMSE, and how to assess variance between them @ https://resources.eumetrain.org/data/4/451/english/msg/ver_cont_var/uos3/uos3_ko1.htm\n"
   ]
  },
  {
   "cell_type": "markdown",
   "metadata": {},
   "source": [
    "### Use of AI"
   ]
  }
 ],
 "metadata": {
  "kernelspec": {
   "display_name": "machine-learning",
   "language": "python",
   "name": "python3"
  },
  "language_info": {
   "codemirror_mode": {
    "name": "ipython",
    "version": 3
   },
   "file_extension": ".py",
   "mimetype": "text/x-python",
   "name": "python",
   "nbconvert_exporter": "python",
   "pygments_lexer": "ipython3",
   "version": "3.12.4"
  }
 },
 "nbformat": 4,
 "nbformat_minor": 2
}
